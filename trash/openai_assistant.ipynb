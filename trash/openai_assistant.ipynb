{
 "cells": [
  {
   "cell_type": "code",
   "execution_count": 8,
   "id": "5459fd8f-49b5-4f4f-a0af-c50362097fd3",
   "metadata": {},
   "outputs": [],
   "source": [
    "import os\n",
    "import re\n",
    "from langchain.text_splitter import RecursiveCharacterTextSplitter\n",
    "from tqdm import tqdm"
   ]
  },
  {
   "cell_type": "code",
   "execution_count": 10,
   "id": "5dc78e88-d924-4273-89c7-a38f3b105256",
   "metadata": {},
   "outputs": [
    {
     "name": "stderr",
     "output_type": "stream",
     "text": [
      "100%|█████████████████████████████████████████████████████████████████████████████| 2866/2866 [00:00<00:00, 8776.80it/s]\n"
     ]
    }
   ],
   "source": [
    "def merge_documents(input_dir=\"./txts/\", out_dir=\"./txts_openai_assistant\"):\n",
    "    \"\"\"合并所有文档到一个文档，可以方便openai assitant读取\"\"\"\n",
    "    files = [os.path.join(input_dir, x) for x in os.listdir(input_dir)]\n",
    "    l1 = []\n",
    "    for in_file in tqdm(files):\n",
    "        with open(in_file, \"r\") as f:\n",
    "            txt = f.read()\n",
    "        pattern1 = r'^.*?内容梗概: '\n",
    "        pattern2 = r' 友情链接：Gnews \\| Gclubs \\| Gfashion \\| himalaya exchange \\| gettr \\| 法治基金 \\| 新中国联邦辞典 \\| $'\n",
    "        txt = re.sub(pattern1, \"\", txt)\n",
    "        txt = re.sub(pattern2, \"\", txt)\n",
    "        l1.append(txt)\n",
    "    txt_all = \"\\n\".join(l1)\n",
    "    text_splitter = RecursiveCharacterTextSplitter(chunk_size=500000, chunk_overlap=0)\n",
    "    l1 = text_splitter.split_text(txt_all)\n",
    "    if not os.path.isdir(out_dir): os.mkdir(out_dir)\n",
    "    for i, txt in enumerate(l1):\n",
    "        out_file = os.path.join(out_dir, f\"{i+1}.txt\")\n",
    "        with open(out_file, \"w\") as f:\n",
    "            f.write(txt)\n",
    "            \n",
    "merge_documents(input_dir=\"./txts/\", out_dir=\"./txts_openai_assistant\")"
   ]
  },
  {
   "cell_type": "code",
   "execution_count": null,
   "id": "74eed86e-8632-4b90-8a85-6af4d0197c65",
   "metadata": {},
   "outputs": [],
   "source": []
  }
 ],
 "metadata": {
  "kernelspec": {
   "display_name": "base",
   "language": "python",
   "name": "base"
  },
  "language_info": {
   "codemirror_mode": {
    "name": "ipython",
    "version": 3
   },
   "file_extension": ".py",
   "mimetype": "text/x-python",
   "name": "python",
   "nbconvert_exporter": "python",
   "pygments_lexer": "ipython3",
   "version": "3.10.13"
  }
 },
 "nbformat": 4,
 "nbformat_minor": 5
}
