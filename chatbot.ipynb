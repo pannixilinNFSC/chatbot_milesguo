{
 "cells": [
  {
   "cell_type": "code",
   "execution_count": 3,
   "id": "53c2c679-29ec-4917-8e0c-b3a9383a1390",
   "metadata": {},
   "outputs": [],
   "source": [
    "import importlib\n",
    "import lib.search_utils as search_utils\n",
    "import lib.chatbot_utils as chatbot_utils\n",
    "importlib.reload(search_utils)\n",
    "importlib.reload(chatbot_utils)\n",
    "\n",
    "from openai import OpenAI # API v1.2\n",
    "with open(\"./openai_key.txt\", \"r\") as f:\n",
    "    openai_key = f.read().strip()\n",
    "    openai_client = OpenAI(api_key=openai_key)\n",
    "\n",
    "search_client = search_utils.SearchClient(\"./\", openai_client)\n",
    "chatbot_client = chatbot_utils.ChatbotClient(\"./\", openai_client)"
   ]
  },
  {
   "cell_type": "code",
   "execution_count": 4,
   "id": "482e218e-6591-419d-a3ca-4d383851e027",
   "metadata": {},
   "outputs": [
    {
     "ename": "AssertionError",
     "evalue": "",
     "output_type": "error",
     "traceback": [
      "\u001b[0;31m---------------------------------------------------------------------------\u001b[0m",
      "\u001b[0;31mAssertionError\u001b[0m                            Traceback (most recent call last)",
      "Cell \u001b[0;32mIn[4], line 3\u001b[0m\n\u001b[1;32m      1\u001b[0m \u001b[38;5;66;03m#txt_query = \"what is the purpose of Gettr, what makes it different from other social platform? reply in english\"\u001b[39;00m\n\u001b[1;32m      2\u001b[0m txt_query \u001b[38;5;241m=\u001b[39m \u001b[38;5;124m\"\u001b[39m\u001b[38;5;124m假如中国实行民主制度，具体是什么样的制度？\u001b[39m\u001b[38;5;124m\"\u001b[39m\n\u001b[0;32m----> 3\u001b[0m txts_retrival \u001b[38;5;241m=\u001b[39m \u001b[43msearch_client\u001b[49m\u001b[43m(\u001b[49m\u001b[43mtxt_query\u001b[49m\u001b[43m,\u001b[49m\u001b[43m \u001b[49m\u001b[43mk\u001b[49m\u001b[38;5;241;43m=\u001b[39;49m\u001b[38;5;241;43m3\u001b[39;49m\u001b[43m)\u001b[49m\n\u001b[1;32m      4\u001b[0m json1 \u001b[38;5;241m=\u001b[39m chatbot_client(txt_query, txts_retrival)\n\u001b[1;32m      5\u001b[0m \u001b[38;5;28mprint\u001b[39m(json1)\n",
      "File \u001b[0;32m/mnt/d/PROJECT/chatbot_milesguo/lib/search_utils.py:116\u001b[0m, in \u001b[0;36mSearchClient.__call__\u001b[0;34m(self, query, k)\u001b[0m\n\u001b[1;32m    115\u001b[0m \u001b[38;5;28;01mdef\u001b[39;00m \u001b[38;5;21m__call__\u001b[39m(\u001b[38;5;28mself\u001b[39m, query, k\u001b[38;5;241m=\u001b[39m\u001b[38;5;241m3\u001b[39m):\n\u001b[0;32m--> 116\u001b[0m     \u001b[38;5;28;01mreturn\u001b[39;00m \u001b[43mtext_search\u001b[49m\u001b[43m(\u001b[49m\u001b[43mquery\u001b[49m\u001b[43m,\u001b[49m\u001b[43m \u001b[49m\u001b[38;5;28;43mself\u001b[39;49m\u001b[38;5;241;43m.\u001b[39;49m\u001b[43mopenai_client\u001b[49m\u001b[43m,\u001b[49m\u001b[43m \u001b[49m\u001b[38;5;28;43mself\u001b[39;49m\u001b[38;5;241;43m.\u001b[39;49m\u001b[43mfaiss_index\u001b[49m\u001b[43m,\u001b[49m\u001b[43m \u001b[49m\u001b[38;5;28;43mself\u001b[39;49m\u001b[38;5;241;43m.\u001b[39;49m\u001b[43mdict_emb\u001b[49m\u001b[43m,\u001b[49m\u001b[43m \u001b[49m\n\u001b[1;32m    117\u001b[0m \u001b[43m                       \u001b[49m\u001b[38;5;28;43mself\u001b[39;49m\u001b[38;5;241;43m.\u001b[39;49m\u001b[43mdict_title\u001b[49m\u001b[43m,\u001b[49m\u001b[43m \u001b[49m\u001b[43mk\u001b[49m\u001b[38;5;241;43m=\u001b[39;49m\u001b[43mk\u001b[49m\u001b[43m,\u001b[49m\u001b[43m \u001b[49m\u001b[43mwork_dir\u001b[49m\u001b[38;5;241;43m=\u001b[39;49m\u001b[38;5;28;43mself\u001b[39;49m\u001b[38;5;241;43m.\u001b[39;49m\u001b[43mwork_dir\u001b[49m\u001b[43m)\u001b[49m\n",
      "File \u001b[0;32m/mnt/d/PROJECT/chatbot_milesguo/lib/search_utils.py:81\u001b[0m, in \u001b[0;36mtext_search\u001b[0;34m(query, openai_client, faiss_index, dict_emb, dict_title, k, work_dir)\u001b[0m\n\u001b[1;32m     79\u001b[0m emb_query \u001b[38;5;241m=\u001b[39m np\u001b[38;5;241m.\u001b[39marray(emb_query[:\u001b[38;5;241m512\u001b[39m])\u001b[38;5;241m.\u001b[39mreshape((\u001b[38;5;241m1\u001b[39m, \u001b[38;5;241m-\u001b[39m\u001b[38;5;241m1\u001b[39m))\n\u001b[1;32m     80\u001b[0m emb_query \u001b[38;5;241m/\u001b[39m\u001b[38;5;241m=\u001b[39m np\u001b[38;5;241m.\u001b[39mlinalg\u001b[38;5;241m.\u001b[39mnorm(emb_query, \u001b[38;5;28mord\u001b[39m\u001b[38;5;241m=\u001b[39m\u001b[38;5;241m2\u001b[39m, axis\u001b[38;5;241m=\u001b[39m\u001b[38;5;241m-\u001b[39m\u001b[38;5;241m1\u001b[39m, keepdims\u001b[38;5;241m=\u001b[39m\u001b[38;5;28;01mTrue\u001b[39;00m)\n\u001b[0;32m---> 81\u001b[0m D, I \u001b[38;5;241m=\u001b[39m \u001b[43mfaiss_index\u001b[49m\u001b[38;5;241;43m.\u001b[39;49m\u001b[43msearch\u001b[49m\u001b[43m(\u001b[49m\u001b[43memb_query\u001b[49m\u001b[43m,\u001b[49m\u001b[43m \u001b[49m\u001b[43mk\u001b[49m\u001b[43m)\u001b[49m\n\u001b[1;32m     82\u001b[0m txts \u001b[38;5;241m=\u001b[39m []\n\u001b[1;32m     83\u001b[0m \u001b[38;5;28;01mfor\u001b[39;00m i \u001b[38;5;129;01min\u001b[39;00m I[\u001b[38;5;241m0\u001b[39m]:\n",
      "File \u001b[0;32m~/tml_venv/lib/python3.10/site-packages/faiss/class_wrappers.py:329\u001b[0m, in \u001b[0;36mhandle_Index.<locals>.replacement_search\u001b[0;34m(self, x, k, params, D, I)\u001b[0m\n\u001b[1;32m    327\u001b[0m n, d \u001b[38;5;241m=\u001b[39m x\u001b[38;5;241m.\u001b[39mshape\n\u001b[1;32m    328\u001b[0m x \u001b[38;5;241m=\u001b[39m np\u001b[38;5;241m.\u001b[39mascontiguousarray(x, dtype\u001b[38;5;241m=\u001b[39m\u001b[38;5;124m'\u001b[39m\u001b[38;5;124mfloat32\u001b[39m\u001b[38;5;124m'\u001b[39m)\n\u001b[0;32m--> 329\u001b[0m \u001b[38;5;28;01massert\u001b[39;00m d \u001b[38;5;241m==\u001b[39m \u001b[38;5;28mself\u001b[39m\u001b[38;5;241m.\u001b[39md\n\u001b[1;32m    331\u001b[0m \u001b[38;5;28;01massert\u001b[39;00m k \u001b[38;5;241m>\u001b[39m \u001b[38;5;241m0\u001b[39m\n\u001b[1;32m    333\u001b[0m \u001b[38;5;28;01mif\u001b[39;00m D \u001b[38;5;129;01mis\u001b[39;00m \u001b[38;5;28;01mNone\u001b[39;00m:\n",
      "\u001b[0;31mAssertionError\u001b[0m: "
     ]
    }
   ],
   "source": [
    "#txt_query = \"what is the purpose of Gettr, what makes it different from other social platform? reply in english\"\n",
    "txt_query = \"假如中国实行民主制度，具体是什么样的制度？\"\n",
    "txts_retrival = search_client(txt_query, k=3)\n",
    "json1 = chatbot_client(txt_query, txts_retrival)\n",
    "print(json1)"
   ]
  },
  {
   "cell_type": "code",
   "execution_count": null,
   "id": "af4ad03f-0c4b-4ea2-800a-c403d81e252e",
   "metadata": {},
   "outputs": [],
   "source": []
  }
 ],
 "metadata": {
  "kernelspec": {
   "display_name": "tml_venv",
   "language": "python",
   "name": "tml_venv"
  },
  "language_info": {
   "codemirror_mode": {
    "name": "ipython",
    "version": 3
   },
   "file_extension": ".py",
   "mimetype": "text/x-python",
   "name": "python",
   "nbconvert_exporter": "python",
   "pygments_lexer": "ipython3",
   "version": "3.10.13"
  }
 },
 "nbformat": 4,
 "nbformat_minor": 5
}
