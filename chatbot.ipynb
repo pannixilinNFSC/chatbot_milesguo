{
 "cells": [
  {
   "cell_type": "code",
   "execution_count": 1,
   "id": "53c2c679-29ec-4917-8e0c-b3a9383a1390",
   "metadata": {},
   "outputs": [
    {
     "name": "stderr",
     "output_type": "stream",
     "text": [
      "100%|██████████████████████████████████████████████████████████████████████████████| 2866/2866 [00:04<00:00, 645.27it/s]\n"
     ]
    }
   ],
   "source": [
    "from lib.openai_utils import openai_client\n",
    "import lib.search_utils as search\n",
    "import lib.chatbot_utils as chatbot\n",
    "\n",
    "embs, dict_emb, faiss_index = search.build_vector_search_index(folder=\"./emb\") # 读取编码文件，构建向量索引\n",
    "dict_title = search.load_titles(file=\"titles.json\") # 读取标题文件"
   ]
  },
  {
   "cell_type": "code",
   "execution_count": 2,
   "id": "482e218e-6591-419d-a3ca-4d383851e027",
   "metadata": {},
   "outputs": [
    {
     "name": "stdout",
     "output_type": "stream",
     "text": [
      "The purpose of Gettr is to provide a social media platform that allows for longer posts and videos, as well as features like live-streaming. It also aims to promote freedom of speech and self-expression without fear of censorship or de-platforming.\n",
      "\n",
      "What makes Gettr different from other social platforms is its emphasis on free speech and opposition to cancel culture. It also allows for longer posts, longer videos, sharper images, and will be adding features like live-streaming. Additionally, Gettr aims to prioritize user engagement and community building. It also has a payment system and does not sell personal data like other platforms.\n",
      "以下是检索得到的原始参考文本\n",
      "1.  郭文贵2021年9月15日直播 20210915_1纳瓦罗先生，和班农先生9月15日大直播 \n",
      "technical details, what’s different between GETTR and let’s say Twitter, Facebook, longer post up to 777 characters, longer videos up to 3 minutes, for news creators and influencers upload of 10 minute videos that we can allow for. Some really cool additional features that will be coming addition of live-streaming which will be coming next month. So we’re excited about the growth and development on that. And I think it will outweigh the Twitter hasn’t had, sharper pictures, sharper images. But again, go back to the fact that you will never be de-platformed or censored for your political opinions on GETTR. And this is something that people can, regardless of what country you are from, regardless of what the free-speech right that the government might tell you that you have, on GETTR you will always be able to express yourself freely and openly. Mr Navaro: Hey, let me say this, GETTR is the Twitter-killer. (clap) This is what we have to do, GETTR is the Twitter-killer, and why do we\n",
      "2.  郭文贵2021年9月15日直播 20210915_1纳瓦罗先生，和班农先生9月15日大直播 \n",
      "of all, I want to get a sense of what you see the advantages and opportunities that GETTR has in comparison to Twitter? How do we compete with Twitter? Mr Miller: Absolutely! Thank you Rachel for the opportune to speak with youth so many others right now. I just put down a couple things, at the big level the advantage we have, is something that Twitter will never be able to duplicate, and that’s excitement. And the most powerful force in the world is an idea, once you create an idea within people, would you give them the ability to self-expression and freedom of speech, that takes hold and you can’t remove that. There is no excitement with Twitter, quite frankly in a social media platform, such as Facebook or anything else. So, we believe that our value proposition, our belief in free speech, but also oppose to cancel culture, that is uniting people all over the world. So for as much as the globalist elite sin the media would try to say that the populist in their respective countries\n",
      "3.  郭文贵2021年11月12日直播 20211112_1中共六中全会的谎言给世界和新中国联邦带来了什么；在新金融时代，新国际大秩序，全世界消灭共产主义的时机中，如何智慧理财投资；新中国联邦将建立安保国防系统，保卫世界华人人身财产 \n",
      "Gettr未来会把instagram照片、“抖音版”小视频、Facebook、Twitter、YouTube功能包含到一起 郭文贵先生：我昨天讲完摩根先生，我说：“它是垃圾。”摩根先生：“你是什么意思”？我说：“它是垃圾。”摩根先生：“它是什么垃圾？”我说：“Facebook、Instagram都是垃圾，YouTube”。因为他有时候耳朵不太好，摩根夫人我的英文又听不太清楚。他就问：“为什么呀？”因为他们没有支付系统，它是销售个人数据。Gettr最重要的是它有支付系统，还不销售个人数据。它有原罪，我们没原罪。它们必然要消灭，我们必然是永久生存，而且是唯一的。（摩根先生）“哇，有道理，有道理。”是吧。 GTV一定是全世界最好的视频直播平台，唯一的平台。七哥说这话吹牛吗？你们觉得我一年前说话，你们肯定不信，现在你们觉得我是吹牛吗？就这GTV，就这Gettr，你知道今天战友们记住啊，更新你的手机软件，Gettr软件，你就可以手机直播啦。你可以现在电脑直播、手机直播，而且我们还有同声字幕，中英文。而且现在的这个可以达到5K推流。我告诉兄弟姐妹们，你们就看到这一点功能的增加，它的价值是多大？ 昨天的Gettr和今天的Gettr，最起码增长50%。如果它昨天市值1000亿的话，今天就涨了500亿，就因为这一个功能。如果我告诉你们，我们一个超级的这个CTO专家，绝对是个天才，美国人啊，不差钱那种。哇塞，人真帅，Rachel看到了我们的Brand，现在已经去了喜联储了。 他是典型的美国人，不结婚一个人，人家一弄都是大钱啊。有钱，但是就到这工作，就一个人疯嚓嚓的，就玩电脑，就电影演的那种啊，键盘侠那种的。现在他在负责Gettr支付，他在弄呢。昨天他一给我发信息，嚓嚓嚓，一串一串的。但是呢，我还得翻译，我自己怕看不明白，弄得我很捉急。 我告诉你，任何一项功能实现，我们都是改变人类的整个社交媒体平台。你不要看这个直播，你知道Jason Miller，你可以问他去啊。这个一会儿Rachel再跟Jason Miller洗手间相会的时候，你在洗手间里你可以问问他：“Jason Miller你说过到底手机直播什么时候能完成？”他认为我们在一年里都不能。没有人相信我们手机直播在一年内完成，直播系统这个功能没有一个完成。\n",
      "4.  郭文贵2021年9月15日直播 20210915_1纳瓦罗先生，和班农先生9月15日大直播 \n",
      "ruins clear, but it’s a… Look, we do listen to the users platform, we take the feedback, we take it serious. And I think there’s also the sense of truth-telling. I think at GETTR the people are expressing, you know what we can’t tell the truth on Twitter, we can’t tell the truth on Facebook, or we can’t tell the truth in this country, there’ll be people coming after us. So, that’s something I’ve heard quite a bit. The people said that, it’s so great that people from around the world are expressing similar ideals. Mr Bannon: Look I think you can see the manifestation of what Jason saying comes from engagement. We look at the engagement on GETTR versus engagements anywhere else. I know so many people come over to this platform and the first thing they’re blown away is by how the GETTR community globally is so engaged. They get more reposts, they get more comments, so I think that the proof is in the pudding, and the pudding is engagement. people are very engagement, once they made the\n",
      "5.  郭文贵2021年9月15日直播 20210915_1纳瓦罗先生，和班农先生9月15日大直播 \n",
      "they’ve built their own community in that platform, that they own their user base, they are not gonna be thrown out. And I think that’s taking GETTR to the next level. I think the key to GETTR is just to get more people on and this community is building, and it’s building in a positive way. You’re seeing that through the engagement, I know Peter he’s comes on. Peter’s got a whole list of things he’s gonna do with Jason. So, remember, GETTR’s only about a hundred days old, under a hundred days old. you compare the first hundred days of GETTR and the first hundred days of Twitter, there’s no comparison. This thing is so much more powerful, and I think that it’s the positive nature of it, the empowerment of it, you see through the engagement. I think that sky is the limit for GETTR. Racheal: Thank you. And I’ll give it back to NANA NN: Thank you Rachel. So, Mr. Bannon and Mr. Navarro, I have one question for both of you. Seeing Xi JinPing has been so aggressive with his decisions and\n"
     ]
    }
   ],
   "source": [
    "txt_query = \"what is the purpose of Gettr, what makes it different from other social platform? reply in english\"\n",
    "#txt_query = \"Gettr和其他社交媒体有什么区别？\"\n",
    "txts_retrival = search.text_search(txt_query, openai_client, faiss_index, dict_emb, dict_title, k=5)\n",
    "txt_response = chatbot.RAG_chatbot(txt_query, openai_client, txts_retrival)\n",
    "print(txt_response)\n",
    "print(\"以下是检索得到的原始参考文本\")\n",
    "for i, (title, txt) in enumerate(txts_retrival):\n",
    "    print(f\"{i+1}. {title}\")\n",
    "    print(txt)"
   ]
  },
  {
   "cell_type": "code",
   "execution_count": null,
   "id": "af4ad03f-0c4b-4ea2-800a-c403d81e252e",
   "metadata": {},
   "outputs": [],
   "source": []
  }
 ],
 "metadata": {
  "kernelspec": {
   "display_name": "base",
   "language": "python",
   "name": "base"
  },
  "language_info": {
   "codemirror_mode": {
    "name": "ipython",
    "version": 3
   },
   "file_extension": ".py",
   "mimetype": "text/x-python",
   "name": "python",
   "nbconvert_exporter": "python",
   "pygments_lexer": "ipython3",
   "version": "3.10.13"
  }
 },
 "nbformat": 4,
 "nbformat_minor": 5
}
