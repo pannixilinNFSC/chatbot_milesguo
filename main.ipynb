{
 "cells": [
  {
   "cell_type": "code",
   "execution_count": 1,
   "id": "b8cfdfad-283b-4f36-9479-f5795d1a5227",
   "metadata": {},
   "outputs": [],
   "source": [
    "import os\n",
    "import json\n",
    "import requests\n",
    "import re\n",
    "import numpy as np\n",
    "import faiss\n",
    "import pickle\n",
    "import gzip\n",
    "from bs4 import BeautifulSoup\n",
    "from tqdm import tqdm\n",
    "from langchain.text_splitter import RecursiveCharacterTextSplitter\n",
    "import openai\n",
    "from openai import OpenAI # API v2.0\n",
    "#from openai.embeddings_utils import get_embedding, get_embeddings # before v1.2\n",
    "\n",
    "with open(\"openai_key.txt\", \"r\") as f:\n",
    "    openai_key = f.read().strip()\n",
    "    openai_client = OpenAI(api_key=openai_key)"
   ]
  },
  {
   "cell_type": "code",
   "execution_count": 4,
   "id": "27204161-33ff-467f-b6cc-7b315fa17aa0",
   "metadata": {},
   "outputs": [],
   "source": [
    "# 定义函数\n",
    "\n",
    "def crawler_page_urls():\n",
    "    \"\"\"# 爬取所有2866个连接 \"\"\"\n",
    "    urls0 = [f\"https://gwins.org/cn/milesguo/list_2_{i}.html\" for i in range(1,73)]\n",
    "    urls1 = []\n",
    "    for url in tqdm(urls0):\n",
    "        response = requests.get(url)\n",
    "        if response.status_code == 200:    \n",
    "            soup = BeautifulSoup(response.content, 'html.parser')\n",
    "            html_doc = soup.get_text() \n",
    "            link_string = '\\n'.join([str(link) for link in soup.find_all('a')])\n",
    "            pattern = r\"/cn/milesguo/[\\w/]+\\.html\"\n",
    "            matches = re.findall(pattern, link_string)\n",
    "            urls2 = [f\"https://gwins.org{x}\" for x in matches]\n",
    "            urls1 += urls2\n",
    "            print(len(urls1))\n",
    "        else:\n",
    "            print(f\"无法获取页面{url}，HTTP状态码：{response.status_code}\")\n",
    "    return urls1\n",
    "\n",
    "def download_documents():\n",
    "    \"\"\"# 爬取所有2866个文章，并保存为文档\"\"\" \n",
    "    urls1 = crawler_page_urls() # 爬取所有2866个连接\n",
    "    out_folder = \"./txts\"\n",
    "    if not os.path.isdir(out_folder): \n",
    "        os.mkdir(\"./txts\")\n",
    "    for url in tqdm(urls1):\n",
    "        pattern = r'\\d+'\n",
    "        id = re.search(pattern, url).group() # 获取网页编号\n",
    "        response = requests.get(url)\n",
    "        if response.status_code == 200:    \n",
    "            soup = BeautifulSoup(response.content, 'html.parser')\n",
    "        else:\n",
    "            print(f\"无法获取页面{url}，HTTP状态码：{response.status_code}\")\n",
    "            continue\n",
    "        html_doc = soup.get_text()  # 获取网页中的纯文本内容\n",
    "        html_doc = re.sub(r'\\s+', ' ', html_doc) # 去掉多余空格\n",
    "        \n",
    "        file_path = os.path.join(out_folder, f\"{id}.txt\")\n",
    "        with open(file_path, \"w\") as f:\n",
    "            f.write(html_doc) # 保存"
   ]
  },
  {
   "cell_type": "code",
   "execution_count": 86,
   "id": "cbe45e3a-476f-4ea0-adc7-6f3af655701a",
   "metadata": {},
   "outputs": [],
   "source": [
    "def extract_titles(input_dir=\"./txts/\", out_file=\"titles.json\"):\n",
    "    \"\"\"提取每个文档的标题\"\"\"\n",
    "    files = [os.path.join(input_dir, x) for x in os.listdir(input_dir)]\n",
    "    dict1 = dict()\n",
    "    for in_file in tqdm(files):\n",
    "        id = os.path.basename(in_file).split(\".\")[0]\n",
    "        with open(in_file, \"r\") as f:\n",
    "            txt = f.read()\n",
    "        pattern1 = r'^(.*?)首页'\n",
    "        match = re.match(pattern1, txt)\n",
    "        if match: \n",
    "            title = match.group(1)\n",
    "            title = title.replace(\"\\n\", \" \")\n",
    "        else:\n",
    "            title = \"unknown title\"\n",
    "        dict1[id] = title\n",
    "        #print(title)\n",
    "    with open(out_file, \"w\") as f:\n",
    "        json.dump(dict1, f)\n",
    "\n",
    "def load_titles(file=\"title.json\"):\n",
    "    with open(file, \"r\") as f:\n",
    "        dict1 = json.load(f)\n",
    "    return dict1\n",
    "    \n",
    "def load_data_to_paragraphs(file):\n",
    "    \"\"\" 将长文档分解成1000字以内短文档. \n",
    "    因为openai sentence embedding ada 002 8000 input token, 最大2000汉字\n",
    "    但是逼近2000后语义编码效果会下降\n",
    "    \"\"\"\n",
    "    with open(file, \"r\") as f:\n",
    "        data = f.read()\n",
    "    pattern1 = r'^.*?内容梗概: '\n",
    "    pattern2 = r' 友情链接：Gnews \\| Gclubs \\| Gfashion \\| himalaya exchange \\| gettr \\| 法治基金 \\| 新中国联邦辞典 \\| $'\n",
    "    data = re.sub(pattern1, \"\", data)\n",
    "    data = re.sub(pattern2, \"\", data)\n",
    "    text_splitter = RecursiveCharacterTextSplitter(chunk_size=1000, chunk_overlap=0)\n",
    "    txts = text_splitter.split_text(data)\n",
    "    return txts\n",
    "\n",
    "def sentence_embedding_batch(txts, id):\n",
    "    \"\"\"将list of text编码为sentence embedding 1538维\"\"\"\n",
    "    l1 = []\n",
    "    #embs = get_embeddings(txts, engine=\"text-embedding-ada-002\")\n",
    "    response = openai_client.embeddings.create(input = txts, model=\"text-embedding-ada-002\")\n",
    "    response = json.loads(response.json())[\"data\"]\n",
    "    embs = [x[\"embedding\"] for x in response]\n",
    "    for i, txt in enumerate(txts):\n",
    "        label = f\"{id}-{i}\"\n",
    "        emb = embs[i]\n",
    "        l1.append((label, txt, emb))\n",
    "    return l1\n",
    "\n",
    "def encoding_file(in_file, output_dir):\n",
    "    \"\"\"将文档.txt文件编码为同名 embedding文件\"\"\"\n",
    "    id = os.path.basename(in_file).split(\".\")[0]\n",
    "    out_file = os.path.join(output_dir, id+\".npz\")\n",
    "    txts = load_data_to_paragraphs(in_file)\n",
    "    packs = sentence_embedding_batch(txts, id)\n",
    "    serialized_data = pickle.dumps(packs)\n",
    "    compressed_data = gzip.compress(serialized_data)\n",
    "    with open(out_file, \"wb\") as file:\n",
    "        file.write(compressed_data)\n",
    "\n",
    "def encoding_files(input_dir = \"./txts/\", output_dir = \"./emb\"):\n",
    "    \"\"\"批量将文件夹下txt文件编码为同名 embedding文件，openai 3美元\"\"\"\n",
    "    files = [os.path.join(input_dir, x) for x in os.listdir(input_dir)]\n",
    "    if not os.path.isdir(output_dir):\n",
    "        os.mkdir(output_dir)\n",
    "    for i, in_file in enumerate(tqdm(files)):\n",
    "        encoding_file(in_file, output_dir)\n",
    "\n",
    "def decoding_file(file):\n",
    "    with open(file, \"rb\") as f:\n",
    "        compressed_data = f.read()\n",
    "    decompressed_data = gzip.decompress(compressed_data)\n",
    "    l1 = pickle.loads(decompressed_data)\n",
    "    return l1\n",
    "\n",
    "def build_faiss_index(embs):\n",
    "    import faiss\n",
    "    d = 1536\n",
    "    nlist = 100\n",
    "    index = faiss.IndexFlatIP(d)\n",
    "    #index = faiss.IndexIVFFlat(index, d, nlist)\n",
    "    index.train(embs)\n",
    "    index.add(embs)\n",
    "    return index\n",
    "    \n",
    "\n",
    "def build_veactor_search_index(folder=\"./emb\"):\n",
    "    files = [os.path.join(folder, x) for x in os.listdir(folder)]\n",
    "    dict1 = dict()\n",
    "    i = 0\n",
    "    embs = []\n",
    "    for file in tqdm(files):\n",
    "        l1 = decoding_file(file)\n",
    "        for idx, txt, emb in l1:\n",
    "            dict1[i] = {\"idx\": idx, \"txt\": txt, \"emb\": emb}\n",
    "            embs.append(emb)\n",
    "            i+=1\n",
    "    embs = np.vstack(embs)\n",
    "    embs /= np.linalg.norm(embs, ord=2, axis=-1, keepdims=True) + 1e-8\n",
    "    faiss_index = build_faiss_index(embs)\n",
    "    return embs, dict1, faiss_index\n",
    "\n",
    "def text_search(query, faiss_index, dict_emb, dict_title, k=3):\n",
    "    \"\"\" 每1000 token 250汉字 0.0001美元\"\"\"\n",
    "    if len(query)<10:\n",
    "        query = f\"这是一个关于{query}的句子\"\n",
    "    #emb_query = get_embedding(query, engine=\"text-embedding-ada-002\")\n",
    "    response = openai_client.embeddings.create(input=[query], model=\"text-embedding-ada-002\")\n",
    "    emb_query = json.loads(response.json())[\"data\"][0][\"embedding\"]\n",
    "    emb_query = np.array(emb_query).reshape((1, -1))\n",
    "    D, I = faiss_index.search(emb_query, k)\n",
    "    txts = []\n",
    "    for i in I[0]:\n",
    "        idx = dict_emb[i][\"idx\"]\n",
    "        idx0 = idx.split(\"-\")[0]\n",
    "        txt = dict_emb[i][\"txt\"]\n",
    "        title = dict_title[idx0]\n",
    "        txts += [(title, txt)]\n",
    "    return txts"
   ]
  },
  {
   "cell_type": "code",
   "execution_count": 60,
   "id": "c029e02b-378d-4450-b77c-b5fe7c3d9b19",
   "metadata": {},
   "outputs": [
    {
     "name": "stderr",
     "output_type": "stream",
     "text": [
      "100%|██████████████████████████████████████████████████████████████████████████████| 2866/2866 [00:05<00:00, 559.84it/s]\n"
     ]
    }
   ],
   "source": [
    "#download_documents()\n",
    "#encoding_files(input_dir = \"./txts/\", output_dir = \"./emb\")\n",
    "#extract_titles(input_dir=\"./txts/\", out_file=\"titles.json\")\n",
    "embs, dict_emb, faiss_index = build_veactor_search_index(folder=\"./emb\")\n",
    "dict_title = load_titles(file=\"titles.json\")"
   ]
  },
  {
   "cell_type": "code",
   "execution_count": 91,
   "id": "45c982ce-049a-4264-a8b3-68c3b312213b",
   "metadata": {},
   "outputs": [
    {
     "data": {
      "text/plain": [
       "[(' 郭文贵2021年10月29日直播 20211029_1格芯在美国上市的重大意义和其未来价值，格芯与数字货币紧密相连；喜币周一上市会带来什么样的改变；房地产会在明年5-7月爆雷，是中共制造的最大的噩梦 ',\n",
       "  '（新冠疫苗）有许多不良反应，很多副作用包括肌肉疼痛、胸痛、呼吸困难，我们看到肺部症状甚至肺炎。 主持人：心脏炎症？ 嘉宾：心脏炎症、肺部炎症。 主持人：有时候会很致命。 嘉宾：会的。 嘉宾：有趣的是我们有4个孩子因为心肌炎来到诊所。 主持人：他们打疫苗了吗？ 嘉宾：都打了疫苗，12-16岁已经批准要求接种，我们那里有很多孩子为了回到运动场，所以他们开始接种疫苗。我们有4例心肌炎。 主持人：好， 那现在的问题是这个年龄段通常会发生心肌炎吗？你是每年都看到几例呢？还是你将其归咎于疫苗？ 嘉宾：在我将近20年的职业生涯中直到今年我才在青少年或儿童中看到心肌炎的病例。 主持人：你现在看到4例。 嘉宾：是的今年看到4例。 ● 10:43视频六：疫苗接种者讲述自己接种后各种副作用情况 我叫Kristy Dobbs 我是一名洗牙师，妻子和四个孩子的母亲，我支持科学我信任好的医疗。我在2021年1月18日 接受了第一剂也是唯一一剂 辉瑞公司的新冠疫苗，当时我在指定接种疫苗的诊所就立即出现了反应，刚接种后我的最初反应是在左臂上有一种刺痛的感觉，感觉像有水在我的手臂内滴落，我还没来得及坐下休息，一些反应就突然同时出现了，我无法呼吸 感觉很热，脉搏呼吸和心率都增加了，血压读数也高到了中风的程度，在注射辉瑞疫苗后的两天我的症状包括手臂酸痛、疲劳、淋巴结肿大和头痛，这些都是我预料到的，也是知情同意中有提到的正常副作用，然而在接种后的第三天疫苗的药效开始蹂躏我的身体，我的左肩胛区 出现了尖锐的刺痛以及我的左臂和左手出现了麻痹感和颤抖，到了第四天 我出现了全身震颤和麻痹。 以及体内像过电般的抽搐，感觉到极度疲劳 脑雾 肌肉疼痛和虚弱，无法入睡，出现多种自主神经功能紊乱，我有超过22种不同的症状，已经困扰我九个多月，至今我已经看了超过15个不同的医疗机构和专家早在3月份 我甚至与Safavi医生 （就职于于美国国立卫生研究院）进行了一次远程医疗访问，我被明确告知不要给我的孩子接种疫苗，我已经把我的血样送到了美国国立卫生研究院以及多个著名的大学和私人研究人员那里研究。 我的疫苗伤害已报告给辉瑞公司，VAERS、CDC 、FDA、 NIH和其他著名研究机构、疫苗受伤者与CDC和FDA的高级官员之间存在信息交换和会议，包括Rochelle Walensky （cdc主任）Peter Marks'),\n",
       " (' 郭文贵2021年9月7日直播 20210907_1政治与艺术的关系：拍卖行背后都是军方的势力；所有的古董字画都是政治情报，都是洗钱和行贿；马明哲对台湾的渗透腐败都是核弹级的；最大的艺术品保险就是马明哲。解读黑天鹅事件，毛泽 ',\n",
       "  '：九个月之后，疫苗引发的副作用会让很多接种过疫苗的人感到后悔 主持人：九个月之后，很多人会对接种过中共病毒疫苗，感到悔恨，因为他们看到了疫苗引发的副作用，FDA的黑框警告，心肌炎，诸如此类，是否有方案也能够帮到这些人呢？ 大胡子医生：是的，它叫做常识，你身体内有个炸弹，很抱歉，但那是你自己放进去的炸弹。所以说第一件事是不要造更多的炸弹，不要再打更多的疫苗，然后你要知道，你体内炸弹的引爆点是什么？引爆点是另一次的病毒感染。病毒和体内相应的抗体产生反应，就可能导致抗体依赖增强，该领域的世界专家在大声疾呼，因为这会导致种族灭绝，所以要说处理他的方法。无论你是否只有十岁，只要已经接种了疫苗，你就有和95岁的疗养院病人一样的风险，而你需要做的是采取（我的）高风险预防措施，以及早期的治疗，以便你不会再次被类似中共病毒的病毒感染。即便你体内有一个炸弹，但并不意味着它一定会爆炸，你必须远离引爆点。我们在谈论并关注的是生死问题，你知道，让我来定义成功，不死便是成功，不要最后进医院上呼吸机，这就是我们衡量成功的标准。 视频7 ：积极治疗很重要 医生：很高兴见到你，教练！ 病人：早上好，医生！ 医生：你感染了COVID-19，何时感染的？ 病人：星期三，十一号。 医生：你有何症状？ 病人：我发烧了，感觉很虚弱，所以我去进行了检测。 医生：然后你就联系我进行治疗了？ 病人：是的，当天下午我马上就去了，我得到了您给的配套治疗方案，鸡尾酒疗法，然后我就开始服药。 医生：药都很对路吧？ 病人：是的。 医生：所有的药……氢氯喹、伊维菌素、锌、多西环素、维生素D和阿司匹林。 病人：没错儿。 医生：太好了！你什么时候注意到治疗产生效果的？ 病人：最贴切的说法是，假如10是我最糟糕的情况，服药后，我大概处于2.5的水平。 医生：当你（服药后）从10降到了2.5。 病人：没错，我经历了整个过程（后来）降到了大约2.5，并且从未失去味觉或嗅觉，我当时很虚弱，我感到浑身乏力，疲惫不堪，但情况慢慢开始发生变化。 医生：好极了，因此你的结果确实很好。 病人：是的 医生：你没有接种过疫苗吧？ 病人：没有，我的妻子也没有。她的情况跟我相同。 医生：她接受我们的治疗了嘛？ 病人：是的，她马上按照您的治疗方案进行了治疗。其实我第一个晚上我就告诉她了然后第二天她开始服药。 医生：太好了，她康复的很好。'),\n",
       " (' 郭文贵2021年9月17日直播 20210917_1恒大就是旁氏骗局，中国有2.5亿人卷入，这是国家金融灾难，世界灾难；不打疫苗就是财富；SEC和解协议和纽约州总检查长的保证书的重大意义，中共司法超限战彻底失败，报假案的一定会得到严 ',\n",
       "  '这个是在施打完毒疫苗之后，副作用是白血病。打疫苗之后，三天就发现得了急性淋巴白血病，才二十岁而已。也有造成无法勃起，但是无法和谐也有可能是一个假新闻，还要确认一下。这也是几篇报道，就是说疫苗确诊之后，造成这些白血病的一个确诊。好，下一页。 这个是就各种梗，现在是脑梗，还有心梗等等，还有各种梗的一个死亡。好下一页。 最后这一页是在中共国的科学网站上面确认的，还是在中科院的武汉病毒所。毒疫苗其实还在第一期、第二期的临床测试，其实根本还没结束。结束的时间都是在二零二一年的十一月十日。所以说，代表大家现在接种疫苗，全部都是白老鼠的阶段。好，谢谢！ PPT2：目前国际上的疫苗后遗症 小福利：好，我们接着给大家介绍一下，目前国际上的疫苗后遗症。 首先是意大利政府在2021年10月15日开始，每个雇员都必须出示疫苗接种或者是检测证明，所谓的绿色通行证。否则五天后会被停职，而且没有工资。 小Seven：对，报道上没有区分是否是政府的雇员，还是私人的雇员。 小福利：对，上方的二维码，战友们都可以去看报导的原出处。另外意大利，一位十六岁的女孩在接种疫苗之后，十六个小时之后死亡。这也是官方的报道，大家都可以去看原文链接。另外意大利和法国反对疫苗、CCP病毒疫苗护照，上街的示威活动。还有法国另外的一些上街的活动，都是选择自由，反对强制接种疫苗的活动。 最后是世卫组织独家的采访，谈到辉瑞疫苗接种之后，出现的神经系统。出现神经系统症状的十八岁少年说，我只想让我的生活回来。这就是很年轻…… 小Seven：不是世卫组织，是一个儿童健康的卫生组织，跟世卫组织没关系。 小福利：这是儿童健康卫士组织独家的一个采访，这是十八岁的少年。 另外澳大利亚目前是限制使用伊维菌素。卫生部2021年9月10日，为COVID-19也就是ccp病毒，开具伊维菌素处方的新限制。 最后是德国保守党派AFD的领袖在报道中称，采取行动，反对任何对未接种疫苗者的歧视。好，我们的PPT就到这里，谢谢。 小Seven：先告一段落吧！我们后面还有Nick准备了。 小福利：对，Nick准备。 更多战友染病的新消息 郭文贵先生：你看，就在我说的时候，你们在群里也看到了—王雪冰老班长发的。咱们有战友，在荷兰的有家人，可能已经过世了—急需羟氯喹，还有伊维菌素。现在我们荷兰的战友，已经联系上。就在我们刚才说的时候，到现在就发生这事，又有新的。')]"
      ]
     },
     "execution_count": 91,
     "metadata": {},
     "output_type": "execute_result"
    }
   ],
   "source": [
    "txt_query = \"接种辉瑞疫苗有哪些后果？\"\n",
    "txts_retrival = text_search(txt_query, faiss_index, dict_emb, dict_title, k=3) #请求10000次API成本1美金\n",
    "txts_retrival"
   ]
  },
  {
   "cell_type": "code",
   "execution_count": 89,
   "id": "ee45a8c9-ad4a-462d-98d1-1323799d9f66",
   "metadata": {},
   "outputs": [
    {
     "name": "stdout",
     "output_type": "stream",
     "text": [
      "根据参考文本中的内容，摘要如下：\n",
      "\n",
      "1. 文本中提到了关于辉瑞疫苗的不良反应和副作用，包\n",
      "[(' 郭文贵2021年10月29日直播 20211029_1格芯在美国上市的重大意义和其未来价值，格芯与数字货币紧密相连；喜币周一上市会带来什么样的改变；房地产会在明年5-7月爆雷，是中共制造的最大的噩梦 ', '（新冠疫苗）有许多不良反应，很多副作用包括肌肉疼痛、胸痛、呼吸困难，我们看到肺部症状甚至肺炎。 主持人：心脏炎症？ 嘉宾：心脏炎症、肺部炎症。 主持人：有时候会很致命。 嘉宾：会的。 嘉宾：有趣的是我们有4个孩子因为心肌炎来到诊所。 主持人：他们打疫苗了吗？ 嘉宾：都打了疫苗，12-16岁已经批准要求接种，我们那里有很多孩子为了回到运动场，所以他们开始接种疫苗。我们有4例心肌炎。 主持人：好， 那现在的问题是这个年龄段通常会发生心肌炎吗？你是每年都看到几例呢？还是你将其归咎于疫苗？ 嘉宾：在我将近20年的职业生涯中直到今年我才在青少年或儿童中看到心肌炎的病例。 主持人：你现在看到4例。 嘉宾：是的今年看到4例。 ● 10:43视频六：疫苗接种者讲述自己接种后各种副作用情况 我叫Kristy Dobbs 我是一名洗牙师，妻子和四个孩子的母亲，我支持科学我信任好的医疗。我在2021年1月18日 接受了第一剂也是唯一一剂 辉瑞公司的新冠疫苗，当时我在指定接种疫苗的诊所就立即出现了反应，刚接种后我的最初反应是在左臂上有一种刺痛的感觉，感觉像有水在我的手臂内滴落，我还没来得及坐下休息，一些反应就突然同时出现了，我无法呼吸 感觉很热，脉搏呼吸和心率都增加了，血压读数也高到了中风的程度，在注射辉瑞疫苗后的两天我的症状包括手臂酸痛、疲劳、淋巴结肿大和头痛，这些都是我预料到的，也是知情同意中有提到的正常副作用，然而在接种后的第三天疫苗的药效开始蹂躏我的身体，我的左肩胛区 出现了尖锐的刺痛以及我的左臂和左手出现了麻痹感和颤抖，到了第四天 我出现了全身震颤和麻痹。 以及体内像过电般的抽搐，感觉到极度疲劳 脑雾 肌肉疼痛和虚弱，无法入睡，出现多种自主神经功能紊乱，我有超过22种不同的症状，已经困扰我九个多月，至今我已经看了超过15个不同的医疗机构和专家早在3月份 我甚至与Safavi医生 （就职于于美国国立卫生研究院）进行了一次远程医疗访问，我被明确告知不要给我的孩子接种疫苗，我已经把我的血样送到了美国国立卫生研究院以及多个著名的大学和私人研究人员那里研究。 我的疫苗伤害已报告给辉瑞公司，VAERS、CDC 、FDA、 NIH和其他著名研究机构、疫苗受伤者与CDC和FDA的高级官员之间存在信息交换和会议，包括Rochelle Walensky （cdc主任）Peter Marks'), (' 郭文贵2021年9月7日直播 20210907_1政治与艺术的关系：拍卖行背后都是军方的势力；所有的古董字画都是政治情报，都是洗钱和行贿；马明哲对台湾的渗透腐败都是核弹级的；最大的艺术品保险就是马明哲。解读黑天鹅事件，毛泽 ', '：九个月之后，疫苗引发的副作用会让很多接种过疫苗的人感到后悔 主持人：九个月之后，很多人会对接种过中共病毒疫苗，感到悔恨，因为他们看到了疫苗引发的副作用，FDA的黑框警告，心肌炎，诸如此类，是否有方案也能够帮到这些人呢？ 大胡子医生：是的，它叫做常识，你身体内有个炸弹，很抱歉，但那是你自己放进去的炸弹。所以说第一件事是不要造更多的炸弹，不要再打更多的疫苗，然后你要知道，你体内炸弹的引爆点是什么？引爆点是另一次的病毒感染。病毒和体内相应的抗体产生反应，就可能导致抗体依赖增强，该领域的世界专家在大声疾呼，因为这会导致种族灭绝，所以要说处理他的方法。无论你是否只有十岁，只要已经接种了疫苗，你就有和95岁的疗养院病人一样的风险，而你需要做的是采取（我的）高风险预防措施，以及早期的治疗，以便你不会再次被类似中共病毒的病毒感染。即便你体内有一个炸弹，但并不意味着它一定会爆炸，你必须远离引爆点。我们在谈论并关注的是生死问题，你知道，让我来定义成功，不死便是成功，不要最后进医院上呼吸机，这就是我们衡量成功的标准。 视频7 ：积极治疗很重要 医生：很高兴见到你，教练！ 病人：早上好，医生！ 医生：你感染了COVID-19，何时感染的？ 病人：星期三，十一号。 医生：你有何症状？ 病人：我发烧了，感觉很虚弱，所以我去进行了检测。 医生：然后你就联系我进行治疗了？ 病人：是的，当天下午我马上就去了，我得到了您给的配套治疗方案，鸡尾酒疗法，然后我就开始服药。 医生：药都很对路吧？ 病人：是的。 医生：所有的药……氢氯喹、伊维菌素、锌、多西环素、维生素D和阿司匹林。 病人：没错儿。 医生：太好了！你什么时候注意到治疗产生效果的？ 病人：最贴切的说法是，假如10是我最糟糕的情况，服药后，我大概处于2.5的水平。 医生：当你（服药后）从10降到了2.5。 病人：没错，我经历了整个过程（后来）降到了大约2.5，并且从未失去味觉或嗅觉，我当时很虚弱，我感到浑身乏力，疲惫不堪，但情况慢慢开始发生变化。 医生：好极了，因此你的结果确实很好。 病人：是的 医生：你没有接种过疫苗吧？ 病人：没有，我的妻子也没有。她的情况跟我相同。 医生：她接受我们的治疗了嘛？ 病人：是的，她马上按照您的治疗方案进行了治疗。其实我第一个晚上我就告诉她了然后第二天她开始服药。 医生：太好了，她康复的很好。'), (' 郭文贵2021年9月17日直播 20210917_1恒大就是旁氏骗局，中国有2.5亿人卷入，这是国家金融灾难，世界灾难；不打疫苗就是财富；SEC和解协议和纽约州总检查长的保证书的重大意义，中共司法超限战彻底失败，报假案的一定会得到严 ', '这个是在施打完毒疫苗之后，副作用是白血病。打疫苗之后，三天就发现得了急性淋巴白血病，才二十岁而已。也有造成无法勃起，但是无法和谐也有可能是一个假新闻，还要确认一下。这也是几篇报道，就是说疫苗确诊之后，造成这些白血病的一个确诊。好，下一页。 这个是就各种梗，现在是脑梗，还有心梗等等，还有各种梗的一个死亡。好下一页。 最后这一页是在中共国的科学网站上面确认的，还是在中科院的武汉病毒所。毒疫苗其实还在第一期、第二期的临床测试，其实根本还没结束。结束的时间都是在二零二一年的十一月十日。所以说，代表大家现在接种疫苗，全部都是白老鼠的阶段。好，谢谢！ PPT2：目前国际上的疫苗后遗症 小福利：好，我们接着给大家介绍一下，目前国际上的疫苗后遗症。 首先是意大利政府在2021年10月15日开始，每个雇员都必须出示疫苗接种或者是检测证明，所谓的绿色通行证。否则五天后会被停职，而且没有工资。 小Seven：对，报道上没有区分是否是政府的雇员，还是私人的雇员。 小福利：对，上方的二维码，战友们都可以去看报导的原出处。另外意大利，一位十六岁的女孩在接种疫苗之后，十六个小时之后死亡。这也是官方的报道，大家都可以去看原文链接。另外意大利和法国反对疫苗、CCP病毒疫苗护照，上街的示威活动。还有法国另外的一些上街的活动，都是选择自由，反对强制接种疫苗的活动。 最后是世卫组织独家的采访，谈到辉瑞疫苗接种之后，出现的神经系统。出现神经系统症状的十八岁少年说，我只想让我的生活回来。这就是很年轻…… 小Seven：不是世卫组织，是一个儿童健康的卫生组织，跟世卫组织没关系。 小福利：这是儿童健康卫士组织独家的一个采访，这是十八岁的少年。 另外澳大利亚目前是限制使用伊维菌素。卫生部2021年9月10日，为COVID-19也就是ccp病毒，开具伊维菌素处方的新限制。 最后是德国保守党派AFD的领袖在报道中称，采取行动，反对任何对未接种疫苗者的歧视。好，我们的PPT就到这里，谢谢。 小Seven：先告一段落吧！我们后面还有Nick准备了。 小福利：对，Nick准备。 更多战友染病的新消息 郭文贵先生：你看，就在我说的时候，你们在群里也看到了—王雪冰老班长发的。咱们有战友，在荷兰的有家人，可能已经过世了—急需羟氯喹，还有伊维菌素。现在我们荷兰的战友，已经联系上。就在我们刚才说的时候，到现在就发生这事，又有新的。')]\n"
     ]
    }
   ],
   "source": [
    "def RAG_chatbot(txt_query, txts_retrival):\n",
    "    \"\"\"\n",
    "    遇到与chatgpt观念不符合的文本时效果仍然不好，甚至会被掐断。\n",
    "    需要试验其他本地化开源LLM\n",
    "    \n",
    "    \"\"\"\n",
    "    prompt = \"\\n\\n\".join([f\"标题：{title}\\n 正文：{txt}\" for title, txt in txts_retrival])\n",
    "    prompt = f\"先摘要并总结参考文本，再解答这个问题{txt_query} 以下是参考文本\\n\\n{txts_retrival}\"\n",
    "    \n",
    "    response = openai_client.chat.completions.create(model=\"gpt-3.5-turbo\",\n",
    "      messages=[{\"role\": \"user\", \"content\": prompt}])\n",
    "    txt_response = json.loads(response.json())[\"choices\"][0][\"message\"][\"content\"]\n",
    "    return txt_response\n",
    "\n",
    "txt_query = \"接种辉瑞疫苗有哪些后果？\"\n",
    "txts_retrival = text_search(txt_query, faiss_index, dict_emb, dict_title, k=3)\n",
    "txt_response = RAG_chatbot(txt_query, txts_retrival)\n",
    "print(txt_response)\n",
    "print(txts_retrival)"
   ]
  },
  {
   "cell_type": "code",
   "execution_count": 30,
   "id": "9f9f375c-812e-4209-96d5-45e266808a9f",
   "metadata": {},
   "outputs": [
    {
     "name": "stdout",
     "output_type": "stream",
     "text": [
      "Distances: [[0.99999994 0.9173957  0.90672827 0.9045879  0.9038532  0.897203\n",
      "  0.89675575 0.8966185  0.89628506 0.89613855]]\n",
      "Indices: [[    0     1  5983 21589 24700 29149 19581 18945 14504 27710]]\n"
     ]
    }
   ],
   "source": []
  },
  {
   "cell_type": "code",
   "execution_count": 94,
   "id": "9f412e1c-307b-44c4-a0f4-cb4e58f52e47",
   "metadata": {},
   "outputs": [
    {
     "data": {
      "text/plain": [
       "'0.0.334'"
      ]
     },
     "execution_count": 94,
     "metadata": {},
     "output_type": "execute_result"
    }
   ],
   "source": [
    "import langchain\n",
    "langchain.__version__"
   ]
  },
  {
   "cell_type": "code",
   "execution_count": null,
   "id": "a122cabb-2073-4b6d-bfb9-2eb17f9dfe25",
   "metadata": {},
   "outputs": [],
   "source": []
  }
 ],
 "metadata": {
  "kernelspec": {
   "display_name": "base",
   "language": "python",
   "name": "base"
  },
  "language_info": {
   "codemirror_mode": {
    "name": "ipython",
    "version": 3
   },
   "file_extension": ".py",
   "mimetype": "text/x-python",
   "name": "python",
   "nbconvert_exporter": "python",
   "pygments_lexer": "ipython3",
   "version": "3.10.13"
  }
 },
 "nbformat": 4,
 "nbformat_minor": 5
}
